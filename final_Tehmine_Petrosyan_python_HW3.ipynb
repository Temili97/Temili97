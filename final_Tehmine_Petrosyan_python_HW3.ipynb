{
 "cells": [
  {
   "cell_type": "code",
   "execution_count": 1,
   "id": "02676740",
   "metadata": {},
   "outputs": [
    {
     "name": "stdout",
     "output_type": "stream",
     "text": [
      "Requirement already satisfied: quandl in /Users/ben/opt/anaconda3/lib/python3.8/site-packages (3.6.1)\n",
      "Requirement already satisfied: six in /Users/ben/opt/anaconda3/lib/python3.8/site-packages (from quandl) (1.15.0)\n",
      "Requirement already satisfied: inflection>=0.3.1 in /Users/ben/opt/anaconda3/lib/python3.8/site-packages (from quandl) (0.5.1)\n",
      "Requirement already satisfied: more-itertools in /Users/ben/opt/anaconda3/lib/python3.8/site-packages (from quandl) (8.7.0)\n",
      "Requirement already satisfied: requests>=2.7.0 in /Users/ben/opt/anaconda3/lib/python3.8/site-packages (from quandl) (2.25.1)\n",
      "Requirement already satisfied: python-dateutil in /Users/ben/opt/anaconda3/lib/python3.8/site-packages (from quandl) (2.8.1)\n",
      "Requirement already satisfied: pandas>=0.14 in /Users/ben/opt/anaconda3/lib/python3.8/site-packages (from quandl) (1.2.4)\n",
      "Requirement already satisfied: numpy>=1.8 in /Users/ben/opt/anaconda3/lib/python3.8/site-packages (from quandl) (1.20.1)\n",
      "Requirement already satisfied: pytz>=2017.3 in /Users/ben/opt/anaconda3/lib/python3.8/site-packages (from pandas>=0.14->quandl) (2021.1)\n",
      "Requirement already satisfied: chardet<5,>=3.0.2 in /Users/ben/opt/anaconda3/lib/python3.8/site-packages (from requests>=2.7.0->quandl) (4.0.0)\n",
      "Requirement already satisfied: urllib3<1.27,>=1.21.1 in /Users/ben/opt/anaconda3/lib/python3.8/site-packages (from requests>=2.7.0->quandl) (1.26.4)\n",
      "Requirement already satisfied: certifi>=2017.4.17 in /Users/ben/opt/anaconda3/lib/python3.8/site-packages (from requests>=2.7.0->quandl) (2020.12.5)\n",
      "Requirement already satisfied: idna<3,>=2.5 in /Users/ben/opt/anaconda3/lib/python3.8/site-packages (from requests>=2.7.0->quandl) (2.10)\n"
     ]
    }
   ],
   "source": [
    "!pip install quandl"
   ]
  },
  {
   "cell_type": "code",
   "execution_count": 2,
   "id": "eac87f0c",
   "metadata": {},
   "outputs": [
    {
     "name": "stdout",
     "output_type": "stream",
     "text": [
      "Requirement already satisfied: plotly in /Users/ben/opt/anaconda3/lib/python3.8/site-packages (5.1.0)\n",
      "Requirement already satisfied: tenacity>=6.2.0 in /Users/ben/opt/anaconda3/lib/python3.8/site-packages (from plotly) (8.0.1)\n",
      "Requirement already satisfied: six in /Users/ben/opt/anaconda3/lib/python3.8/site-packages (from plotly) (1.15.0)\n"
     ]
    }
   ],
   "source": [
    "!pip install plotly"
   ]
  },
  {
   "cell_type": "code",
   "execution_count": 3,
   "id": "472f20a0",
   "metadata": {},
   "outputs": [
    {
     "name": "stdout",
     "output_type": "stream",
     "text": [
      "Requirement already satisfied: pandas_datareader in /Users/ben/opt/anaconda3/lib/python3.8/site-packages (0.10.0)\n",
      "Requirement already satisfied: lxml in /Users/ben/opt/anaconda3/lib/python3.8/site-packages (from pandas_datareader) (4.6.3)\n",
      "Requirement already satisfied: requests>=2.19.0 in /Users/ben/opt/anaconda3/lib/python3.8/site-packages (from pandas_datareader) (2.25.1)\n",
      "Requirement already satisfied: pandas>=0.23 in /Users/ben/opt/anaconda3/lib/python3.8/site-packages (from pandas_datareader) (1.2.4)\n",
      "Requirement already satisfied: python-dateutil>=2.7.3 in /Users/ben/opt/anaconda3/lib/python3.8/site-packages (from pandas>=0.23->pandas_datareader) (2.8.1)\n",
      "Requirement already satisfied: pytz>=2017.3 in /Users/ben/opt/anaconda3/lib/python3.8/site-packages (from pandas>=0.23->pandas_datareader) (2021.1)\n",
      "Requirement already satisfied: numpy>=1.16.5 in /Users/ben/opt/anaconda3/lib/python3.8/site-packages (from pandas>=0.23->pandas_datareader) (1.20.1)\n",
      "Requirement already satisfied: six>=1.5 in /Users/ben/opt/anaconda3/lib/python3.8/site-packages (from python-dateutil>=2.7.3->pandas>=0.23->pandas_datareader) (1.15.0)\n",
      "Requirement already satisfied: chardet<5,>=3.0.2 in /Users/ben/opt/anaconda3/lib/python3.8/site-packages (from requests>=2.19.0->pandas_datareader) (4.0.0)\n",
      "Requirement already satisfied: certifi>=2017.4.17 in /Users/ben/opt/anaconda3/lib/python3.8/site-packages (from requests>=2.19.0->pandas_datareader) (2020.12.5)\n",
      "Requirement already satisfied: urllib3<1.27,>=1.21.1 in /Users/ben/opt/anaconda3/lib/python3.8/site-packages (from requests>=2.19.0->pandas_datareader) (1.26.4)\n",
      "Requirement already satisfied: idna<3,>=2.5 in /Users/ben/opt/anaconda3/lib/python3.8/site-packages (from requests>=2.19.0->pandas_datareader) (2.10)\n"
     ]
    }
   ],
   "source": [
    "!pip install pandas_datareader"
   ]
  },
  {
   "cell_type": "code",
   "execution_count": 4,
   "id": "b89a54f0",
   "metadata": {},
   "outputs": [
    {
     "data": {
      "text/html": [
       "        <script type=\"text/javascript\">\n",
       "        window.PlotlyConfig = {MathJaxConfig: 'local'};\n",
       "        if (window.MathJax) {MathJax.Hub.Config({SVG: {font: \"STIX-Web\"}});}\n",
       "        if (typeof require !== 'undefined') {\n",
       "        require.undef(\"plotly\");\n",
       "        requirejs.config({\n",
       "            paths: {\n",
       "                'plotly': ['https://cdn.plot.ly/plotly-2.2.0.min']\n",
       "            }\n",
       "        });\n",
       "        require(['plotly'], function(Plotly) {\n",
       "            window._Plotly = Plotly;\n",
       "        });\n",
       "        }\n",
       "        </script>\n",
       "        "
      ]
     },
     "metadata": {},
     "output_type": "display_data"
    }
   ],
   "source": [
    "import pandas as pd #for reading and working with data\n",
    "import matplotlib.pyplot as plt #for visuals\n",
    "import seaborn as sns #for visuals\n",
    "import numpy as np #for doing math/stat calculations, working with arrays\n",
    "\n",
    "import quandl #for downloading data from Quandl website\n",
    "from pandas_datareader import data #for downloading data from Yahoo Finance website\n",
    "\n",
    "##plotly is for interactive plotting\n",
    "from plotly.offline import iplot\n",
    "from plotly.offline import init_notebook_mode\n",
    "import plotly.graph_objects as go #the basic charts that we will use are mainly stored under graph_objs\n",
    "init_notebook_mode(connected=True) #if we want the charts to be displayed in JN"
   ]
  },
  {
   "cell_type": "markdown",
   "id": "469dd567",
   "metadata": {},
   "source": [
    "# 1."
   ]
  },
  {
   "cell_type": "code",
   "execution_count": 5,
   "id": "53f10847",
   "metadata": {},
   "outputs": [
    {
     "ename": "FileNotFoundError",
     "evalue": "[Errno 2] No such file or directory: 'salary.csv'",
     "output_type": "error",
     "traceback": [
      "\u001b[0;31m---------------------------------------------------------------------------\u001b[0m",
      "\u001b[0;31mFileNotFoundError\u001b[0m                         Traceback (most recent call last)",
      "\u001b[0;32m<ipython-input-5-660dce72fe7f>\u001b[0m in \u001b[0;36m<module>\u001b[0;34m\u001b[0m\n\u001b[0;32m----> 1\u001b[0;31m \u001b[0msalary_data\u001b[0m \u001b[0;34m=\u001b[0m \u001b[0mpd\u001b[0m\u001b[0;34m.\u001b[0m\u001b[0mread_csv\u001b[0m\u001b[0;34m(\u001b[0m\u001b[0;34m'salary.csv'\u001b[0m\u001b[0;34m)\u001b[0m\u001b[0;34m\u001b[0m\u001b[0;34m\u001b[0m\u001b[0m\n\u001b[0m\u001b[1;32m      2\u001b[0m \u001b[0msalary_data\u001b[0m\u001b[0;34m\u001b[0m\u001b[0;34m\u001b[0m\u001b[0m\n",
      "\u001b[0;32m~/opt/anaconda3/lib/python3.8/site-packages/pandas/io/parsers.py\u001b[0m in \u001b[0;36mread_csv\u001b[0;34m(filepath_or_buffer, sep, delimiter, header, names, index_col, usecols, squeeze, prefix, mangle_dupe_cols, dtype, engine, converters, true_values, false_values, skipinitialspace, skiprows, skipfooter, nrows, na_values, keep_default_na, na_filter, verbose, skip_blank_lines, parse_dates, infer_datetime_format, keep_date_col, date_parser, dayfirst, cache_dates, iterator, chunksize, compression, thousands, decimal, lineterminator, quotechar, quoting, doublequote, escapechar, comment, encoding, dialect, error_bad_lines, warn_bad_lines, delim_whitespace, low_memory, memory_map, float_precision, storage_options)\u001b[0m\n\u001b[1;32m    608\u001b[0m     \u001b[0mkwds\u001b[0m\u001b[0;34m.\u001b[0m\u001b[0mupdate\u001b[0m\u001b[0;34m(\u001b[0m\u001b[0mkwds_defaults\u001b[0m\u001b[0;34m)\u001b[0m\u001b[0;34m\u001b[0m\u001b[0;34m\u001b[0m\u001b[0m\n\u001b[1;32m    609\u001b[0m \u001b[0;34m\u001b[0m\u001b[0m\n\u001b[0;32m--> 610\u001b[0;31m     \u001b[0;32mreturn\u001b[0m \u001b[0m_read\u001b[0m\u001b[0;34m(\u001b[0m\u001b[0mfilepath_or_buffer\u001b[0m\u001b[0;34m,\u001b[0m \u001b[0mkwds\u001b[0m\u001b[0;34m)\u001b[0m\u001b[0;34m\u001b[0m\u001b[0;34m\u001b[0m\u001b[0m\n\u001b[0m\u001b[1;32m    611\u001b[0m \u001b[0;34m\u001b[0m\u001b[0m\n\u001b[1;32m    612\u001b[0m \u001b[0;34m\u001b[0m\u001b[0m\n",
      "\u001b[0;32m~/opt/anaconda3/lib/python3.8/site-packages/pandas/io/parsers.py\u001b[0m in \u001b[0;36m_read\u001b[0;34m(filepath_or_buffer, kwds)\u001b[0m\n\u001b[1;32m    460\u001b[0m \u001b[0;34m\u001b[0m\u001b[0m\n\u001b[1;32m    461\u001b[0m     \u001b[0;31m# Create the parser.\u001b[0m\u001b[0;34m\u001b[0m\u001b[0;34m\u001b[0m\u001b[0;34m\u001b[0m\u001b[0m\n\u001b[0;32m--> 462\u001b[0;31m     \u001b[0mparser\u001b[0m \u001b[0;34m=\u001b[0m \u001b[0mTextFileReader\u001b[0m\u001b[0;34m(\u001b[0m\u001b[0mfilepath_or_buffer\u001b[0m\u001b[0;34m,\u001b[0m \u001b[0;34m**\u001b[0m\u001b[0mkwds\u001b[0m\u001b[0;34m)\u001b[0m\u001b[0;34m\u001b[0m\u001b[0;34m\u001b[0m\u001b[0m\n\u001b[0m\u001b[1;32m    463\u001b[0m \u001b[0;34m\u001b[0m\u001b[0m\n\u001b[1;32m    464\u001b[0m     \u001b[0;32mif\u001b[0m \u001b[0mchunksize\u001b[0m \u001b[0;32mor\u001b[0m \u001b[0miterator\u001b[0m\u001b[0;34m:\u001b[0m\u001b[0;34m\u001b[0m\u001b[0;34m\u001b[0m\u001b[0m\n",
      "\u001b[0;32m~/opt/anaconda3/lib/python3.8/site-packages/pandas/io/parsers.py\u001b[0m in \u001b[0;36m__init__\u001b[0;34m(self, f, engine, **kwds)\u001b[0m\n\u001b[1;32m    817\u001b[0m             \u001b[0mself\u001b[0m\u001b[0;34m.\u001b[0m\u001b[0moptions\u001b[0m\u001b[0;34m[\u001b[0m\u001b[0;34m\"has_index_names\"\u001b[0m\u001b[0;34m]\u001b[0m \u001b[0;34m=\u001b[0m \u001b[0mkwds\u001b[0m\u001b[0;34m[\u001b[0m\u001b[0;34m\"has_index_names\"\u001b[0m\u001b[0;34m]\u001b[0m\u001b[0;34m\u001b[0m\u001b[0;34m\u001b[0m\u001b[0m\n\u001b[1;32m    818\u001b[0m \u001b[0;34m\u001b[0m\u001b[0m\n\u001b[0;32m--> 819\u001b[0;31m         \u001b[0mself\u001b[0m\u001b[0;34m.\u001b[0m\u001b[0m_engine\u001b[0m \u001b[0;34m=\u001b[0m \u001b[0mself\u001b[0m\u001b[0;34m.\u001b[0m\u001b[0m_make_engine\u001b[0m\u001b[0;34m(\u001b[0m\u001b[0mself\u001b[0m\u001b[0;34m.\u001b[0m\u001b[0mengine\u001b[0m\u001b[0;34m)\u001b[0m\u001b[0;34m\u001b[0m\u001b[0;34m\u001b[0m\u001b[0m\n\u001b[0m\u001b[1;32m    820\u001b[0m \u001b[0;34m\u001b[0m\u001b[0m\n\u001b[1;32m    821\u001b[0m     \u001b[0;32mdef\u001b[0m \u001b[0mclose\u001b[0m\u001b[0;34m(\u001b[0m\u001b[0mself\u001b[0m\u001b[0;34m)\u001b[0m\u001b[0;34m:\u001b[0m\u001b[0;34m\u001b[0m\u001b[0;34m\u001b[0m\u001b[0m\n",
      "\u001b[0;32m~/opt/anaconda3/lib/python3.8/site-packages/pandas/io/parsers.py\u001b[0m in \u001b[0;36m_make_engine\u001b[0;34m(self, engine)\u001b[0m\n\u001b[1;32m   1048\u001b[0m             )\n\u001b[1;32m   1049\u001b[0m         \u001b[0;31m# error: Too many arguments for \"ParserBase\"\u001b[0m\u001b[0;34m\u001b[0m\u001b[0;34m\u001b[0m\u001b[0;34m\u001b[0m\u001b[0m\n\u001b[0;32m-> 1050\u001b[0;31m         \u001b[0;32mreturn\u001b[0m \u001b[0mmapping\u001b[0m\u001b[0;34m[\u001b[0m\u001b[0mengine\u001b[0m\u001b[0;34m]\u001b[0m\u001b[0;34m(\u001b[0m\u001b[0mself\u001b[0m\u001b[0;34m.\u001b[0m\u001b[0mf\u001b[0m\u001b[0;34m,\u001b[0m \u001b[0;34m**\u001b[0m\u001b[0mself\u001b[0m\u001b[0;34m.\u001b[0m\u001b[0moptions\u001b[0m\u001b[0;34m)\u001b[0m  \u001b[0;31m# type: ignore[call-arg]\u001b[0m\u001b[0;34m\u001b[0m\u001b[0;34m\u001b[0m\u001b[0m\n\u001b[0m\u001b[1;32m   1051\u001b[0m \u001b[0;34m\u001b[0m\u001b[0m\n\u001b[1;32m   1052\u001b[0m     \u001b[0;32mdef\u001b[0m \u001b[0m_failover_to_python\u001b[0m\u001b[0;34m(\u001b[0m\u001b[0mself\u001b[0m\u001b[0;34m)\u001b[0m\u001b[0;34m:\u001b[0m\u001b[0;34m\u001b[0m\u001b[0;34m\u001b[0m\u001b[0m\n",
      "\u001b[0;32m~/opt/anaconda3/lib/python3.8/site-packages/pandas/io/parsers.py\u001b[0m in \u001b[0;36m__init__\u001b[0;34m(self, src, **kwds)\u001b[0m\n\u001b[1;32m   1865\u001b[0m \u001b[0;34m\u001b[0m\u001b[0m\n\u001b[1;32m   1866\u001b[0m         \u001b[0;31m# open handles\u001b[0m\u001b[0;34m\u001b[0m\u001b[0;34m\u001b[0m\u001b[0;34m\u001b[0m\u001b[0m\n\u001b[0;32m-> 1867\u001b[0;31m         \u001b[0mself\u001b[0m\u001b[0;34m.\u001b[0m\u001b[0m_open_handles\u001b[0m\u001b[0;34m(\u001b[0m\u001b[0msrc\u001b[0m\u001b[0;34m,\u001b[0m \u001b[0mkwds\u001b[0m\u001b[0;34m)\u001b[0m\u001b[0;34m\u001b[0m\u001b[0;34m\u001b[0m\u001b[0m\n\u001b[0m\u001b[1;32m   1868\u001b[0m         \u001b[0;32massert\u001b[0m \u001b[0mself\u001b[0m\u001b[0;34m.\u001b[0m\u001b[0mhandles\u001b[0m \u001b[0;32mis\u001b[0m \u001b[0;32mnot\u001b[0m \u001b[0;32mNone\u001b[0m\u001b[0;34m\u001b[0m\u001b[0;34m\u001b[0m\u001b[0m\n\u001b[1;32m   1869\u001b[0m         \u001b[0;32mfor\u001b[0m \u001b[0mkey\u001b[0m \u001b[0;32min\u001b[0m \u001b[0;34m(\u001b[0m\u001b[0;34m\"storage_options\"\u001b[0m\u001b[0;34m,\u001b[0m \u001b[0;34m\"encoding\"\u001b[0m\u001b[0;34m,\u001b[0m \u001b[0;34m\"memory_map\"\u001b[0m\u001b[0;34m,\u001b[0m \u001b[0;34m\"compression\"\u001b[0m\u001b[0;34m)\u001b[0m\u001b[0;34m:\u001b[0m\u001b[0;34m\u001b[0m\u001b[0;34m\u001b[0m\u001b[0m\n",
      "\u001b[0;32m~/opt/anaconda3/lib/python3.8/site-packages/pandas/io/parsers.py\u001b[0m in \u001b[0;36m_open_handles\u001b[0;34m(self, src, kwds)\u001b[0m\n\u001b[1;32m   1360\u001b[0m         \u001b[0mLet\u001b[0m \u001b[0mthe\u001b[0m \u001b[0mreaders\u001b[0m \u001b[0mopen\u001b[0m \u001b[0mIOHanldes\u001b[0m \u001b[0mafter\u001b[0m \u001b[0mthey\u001b[0m \u001b[0mare\u001b[0m \u001b[0mdone\u001b[0m \u001b[0;32mwith\u001b[0m \u001b[0mtheir\u001b[0m \u001b[0mpotential\u001b[0m \u001b[0mraises\u001b[0m\u001b[0;34m.\u001b[0m\u001b[0;34m\u001b[0m\u001b[0;34m\u001b[0m\u001b[0m\n\u001b[1;32m   1361\u001b[0m         \"\"\"\n\u001b[0;32m-> 1362\u001b[0;31m         self.handles = get_handle(\n\u001b[0m\u001b[1;32m   1363\u001b[0m             \u001b[0msrc\u001b[0m\u001b[0;34m,\u001b[0m\u001b[0;34m\u001b[0m\u001b[0;34m\u001b[0m\u001b[0m\n\u001b[1;32m   1364\u001b[0m             \u001b[0;34m\"r\"\u001b[0m\u001b[0;34m,\u001b[0m\u001b[0;34m\u001b[0m\u001b[0;34m\u001b[0m\u001b[0m\n",
      "\u001b[0;32m~/opt/anaconda3/lib/python3.8/site-packages/pandas/io/common.py\u001b[0m in \u001b[0;36mget_handle\u001b[0;34m(path_or_buf, mode, encoding, compression, memory_map, is_text, errors, storage_options)\u001b[0m\n\u001b[1;32m    640\u001b[0m                 \u001b[0merrors\u001b[0m \u001b[0;34m=\u001b[0m \u001b[0;34m\"replace\"\u001b[0m\u001b[0;34m\u001b[0m\u001b[0;34m\u001b[0m\u001b[0m\n\u001b[1;32m    641\u001b[0m             \u001b[0;31m# Encoding\u001b[0m\u001b[0;34m\u001b[0m\u001b[0;34m\u001b[0m\u001b[0;34m\u001b[0m\u001b[0m\n\u001b[0;32m--> 642\u001b[0;31m             handle = open(\n\u001b[0m\u001b[1;32m    643\u001b[0m                 \u001b[0mhandle\u001b[0m\u001b[0;34m,\u001b[0m\u001b[0;34m\u001b[0m\u001b[0;34m\u001b[0m\u001b[0m\n\u001b[1;32m    644\u001b[0m                 \u001b[0mioargs\u001b[0m\u001b[0;34m.\u001b[0m\u001b[0mmode\u001b[0m\u001b[0;34m,\u001b[0m\u001b[0;34m\u001b[0m\u001b[0;34m\u001b[0m\u001b[0m\n",
      "\u001b[0;31mFileNotFoundError\u001b[0m: [Errno 2] No such file or directory: 'salary.csv'"
     ]
    }
   ],
   "source": [
    "salary_data = pd.read_csv('salary.csv')\n",
    "salary_data"
   ]
  },
  {
   "cell_type": "markdown",
   "id": "678f31e4",
   "metadata": {},
   "source": [
    "# 2."
   ]
  },
  {
   "cell_type": "code",
   "execution_count": null,
   "id": "e85326b1",
   "metadata": {},
   "outputs": [],
   "source": [
    "salary_data.shape"
   ]
  },
  {
   "cell_type": "markdown",
   "id": "594e361a",
   "metadata": {},
   "source": [
    "# 3."
   ]
  },
  {
   "cell_type": "code",
   "execution_count": null,
   "id": "668f7060",
   "metadata": {},
   "outputs": [],
   "source": [
    "salary_data.isna().sum()"
   ]
  },
  {
   "cell_type": "code",
   "execution_count": null,
   "id": "5f8ee96c",
   "metadata": {},
   "outputs": [],
   "source": [
    "salary_data.isna().sum().sum()"
   ]
  },
  {
   "cell_type": "code",
   "execution_count": null,
   "id": "491ce5e1",
   "metadata": {},
   "outputs": [],
   "source": [
    "salary_data.isna().any()"
   ]
  },
  {
   "cell_type": "markdown",
   "id": "fd668449",
   "metadata": {},
   "source": [
    "# 4."
   ]
  },
  {
   "cell_type": "code",
   "execution_count": null,
   "id": "6b557d02",
   "metadata": {},
   "outputs": [],
   "source": [
    "salary_data = salary_data.replace(\"?\", np.nan)\n",
    "salary_data"
   ]
  },
  {
   "cell_type": "code",
   "execution_count": null,
   "id": "09c72849",
   "metadata": {},
   "outputs": [],
   "source": [
    "salary_data.isna().sum()"
   ]
  },
  {
   "cell_type": "code",
   "execution_count": null,
   "id": "b4b37e4f",
   "metadata": {},
   "outputs": [],
   "source": [
    "salary_data.drop(['education.num','occupation','capital.gain','capital.loss'], axis=1, inplace=True)\n",
    "salary_data.columns"
   ]
  },
  {
   "cell_type": "code",
   "execution_count": null,
   "id": "992dd757",
   "metadata": {},
   "outputs": [],
   "source": [
    "salary_data.dropna(inplace=True)\n",
    "salary_data"
   ]
  },
  {
   "cell_type": "code",
   "execution_count": null,
   "id": "cb4bb6a1",
   "metadata": {},
   "outputs": [],
   "source": [
    "salary_data.shape"
   ]
  },
  {
   "cell_type": "markdown",
   "id": "5d4dde40",
   "metadata": {},
   "source": [
    "# 5."
   ]
  },
  {
   "cell_type": "code",
   "execution_count": null,
   "id": "a4da4549",
   "metadata": {},
   "outputs": [],
   "source": [
    "salary_data.columns = salary_data.columns.str.replace(\".\", \"_\")\n",
    "salary_data.columns\n",
    "                    "
   ]
  },
  {
   "cell_type": "markdown",
   "id": "ebbd93cb",
   "metadata": {},
   "source": [
    "# 6."
   ]
  },
  {
   "cell_type": "code",
   "execution_count": null,
   "id": "69386f7d",
   "metadata": {},
   "outputs": [],
   "source": [
    "salary_corr = salary_data.corr().abs()\n",
    "salary_corr"
   ]
  },
  {
   "cell_type": "code",
   "execution_count": null,
   "id": "44e1a249",
   "metadata": {},
   "outputs": [],
   "source": [
    "sns.heatmap(salary_data.corr().abs()\n",
    "           ,annot=True)\n",
    "\n",
    "plt.show()"
   ]
  },
  {
   "cell_type": "markdown",
   "id": "1ed48f51",
   "metadata": {},
   "source": [
    "# 7."
   ]
  },
  {
   "cell_type": "code",
   "execution_count": null,
   "id": "31b12e30",
   "metadata": {},
   "outputs": [],
   "source": [
    "salary_data.mean()"
   ]
  },
  {
   "cell_type": "code",
   "execution_count": null,
   "id": "0f6b9cf3",
   "metadata": {},
   "outputs": [],
   "source": [
    "salary_data.median()"
   ]
  },
  {
   "cell_type": "code",
   "execution_count": null,
   "id": "34bc0258",
   "metadata": {},
   "outputs": [],
   "source": [
    "salary_data.age.min()"
   ]
  },
  {
   "cell_type": "code",
   "execution_count": null,
   "id": "1bf475c5",
   "metadata": {},
   "outputs": [],
   "source": [
    "salary_data.age.max()"
   ]
  },
  {
   "cell_type": "code",
   "execution_count": null,
   "id": "d96eada6",
   "metadata": {},
   "outputs": [],
   "source": [
    "import statistics\n",
    "print(statistics.stdev(salary_data.age))"
   ]
  },
  {
   "cell_type": "code",
   "execution_count": null,
   "id": "407579a5",
   "metadata": {},
   "outputs": [],
   "source": [
    "salary_data.age.std()"
   ]
  },
  {
   "cell_type": "code",
   "execution_count": null,
   "id": "eeac579f",
   "metadata": {},
   "outputs": [],
   "source": [
    "salary_data.describe().round(2)"
   ]
  },
  {
   "cell_type": "code",
   "execution_count": null,
   "id": "1971c386",
   "metadata": {},
   "outputs": [],
   "source": [
    "salary_data.columns"
   ]
  },
  {
   "cell_type": "markdown",
   "id": "eb565fdb",
   "metadata": {},
   "source": [
    "# 8."
   ]
  },
  {
   "cell_type": "code",
   "execution_count": null,
   "id": "eb5edc73",
   "metadata": {},
   "outputs": [],
   "source": [
    "plt.figure(figsize=(6,6))\n",
    "\n",
    "plt.scatter(salary_data.hours_per_week, \n",
    "            salary_data.age, color='#47c9ed'\n",
    "           )\n",
    "\n",
    "plt.title(\"Hours Per Week VS Age\")  \n",
    "plt.show()"
   ]
  },
  {
   "cell_type": "markdown",
   "id": "3b0b1099",
   "metadata": {},
   "source": [
    ">>The scatter is used to analyze trends in  data and to help to determine whether or not there is a relationship between two variables. In this case, between hours worked per week and age. It can be assumed from the chart that the highest concentration is in the region of between the ages 40-60 and worked ours per week 30-60. "
   ]
  },
  {
   "cell_type": "code",
   "execution_count": null,
   "id": "2ccfbe22",
   "metadata": {},
   "outputs": [],
   "source": [
    "plt.figure(figsize=(10,6))\n",
    "\n",
    "salary_data.groupby(['income'])['age'].mean().plot(kind='bar',color='#47c9ed')\n",
    "\n",
    "plt.xlabel('Income') \n",
    "plt.ylabel('Age') \n",
    "plt.title('Relationship between Income and Age')\n",
    "\n",
    "plt.show() "
   ]
  },
  {
   "cell_type": "markdown",
   "id": "4a16ae00",
   "metadata": {},
   "source": [
    ">> It can be assumed from the bar chart that the workers who have higher income (50k and more) are under 38 years. And the ones which have lower income (less than 50k) are above 38 years."
   ]
  },
  {
   "cell_type": "code",
   "execution_count": null,
   "id": "7a6a8d03",
   "metadata": {
    "scrolled": true
   },
   "outputs": [],
   "source": [
    "plt.figure(figsize=(15,6))\n",
    "\n",
    "plt.title(\"Relationship between Income and Gender\")\n",
    "plt.xlabel(\"Gender\")\n",
    "plt.ylabel(\"Income\")\n",
    "salary_data.groupby([\"income\"])[\"Geder\"].value_counts().plot(kind=\"bar\", color='#47c9ed')\n",
    "plt.show()"
   ]
  },
  {
   "cell_type": "markdown",
   "id": "91d06bbf",
   "metadata": {},
   "source": [
    ">> The bar chart shows that the highest income usually get males - 140000, and then females - 9000. "
   ]
  },
  {
   "cell_type": "code",
   "execution_count": null,
   "id": "587bae5e",
   "metadata": {},
   "outputs": [],
   "source": [
    "plt.figure(figsize=(15,6))\n",
    "\n",
    "plt.title(\"Relationship between Income and Gender\")\n",
    "plt.xlabel(\"Race\")\n",
    "plt.ylabel(\"Income\")\n",
    "salary_data.groupby([\"income\"])[\"race\"].value_counts().plot(kind=\"bar\", color='#47c9ed')\n",
    "plt.show()"
   ]
  },
  {
   "cell_type": "markdown",
   "id": "76041a84",
   "metadata": {},
   "source": [
    " >> The chart shows the relationship between race and income. It can be assumed, that white people have higher income than the rest which is almost 20000."
   ]
  },
  {
   "cell_type": "code",
   "execution_count": null,
   "id": "0718b7d4",
   "metadata": {},
   "outputs": [],
   "source": [
    "sns.boxplot(salary_data.income, \n",
    "           salary_data.age,\n",
    "           orient='v')\n",
    "\n",
    "plt.show()"
   ]
  },
  {
   "cell_type": "code",
   "execution_count": null,
   "id": "064f4f3c",
   "metadata": {
    "scrolled": true
   },
   "outputs": [],
   "source": [
    "plt.figure(figsize=(8,4))\n",
    "sns.countplot(x='race', hue='income',data=salary_data,palette=\"pastel\")\n",
    "plt.show()\n",
    "\n"
   ]
  },
  {
   "cell_type": "code",
   "execution_count": null,
   "id": "341d4400",
   "metadata": {},
   "outputs": [],
   "source": [
    "plt.figure(figsize=(8,4))\n",
    "\n",
    "sns.barplot(x ='hours_per_week', y ='income', data = salary_data, palette ='pastel')\n",
    "\n",
    "plt.show()"
   ]
  },
  {
   "cell_type": "markdown",
   "id": "fcc45cb4",
   "metadata": {},
   "source": [
    ">> The bar plot shows the relationship between worked hours per week and received income. It can be assumed from this barplot that the ones who worked longer than 40 hours per week has income higher than 50K, and the ones who worked less than 40 hours per week has income less than 50k."
   ]
  },
  {
   "cell_type": "code",
   "execution_count": null,
   "id": "20a9d1a6",
   "metadata": {},
   "outputs": [],
   "source": [
    "plt.figure(figsize=(20,15))\n",
    "\n",
    "sns.barplot(x ='age', y ='hours_per_week', data = salary_data, palette ='pastel')\n",
    "\n",
    "plt.show()"
   ]
  },
  {
   "cell_type": "markdown",
   "id": "2f391444",
   "metadata": {},
   "source": [
    "# 9."
   ]
  },
  {
   "cell_type": "code",
   "execution_count": null,
   "id": "a102e001",
   "metadata": {},
   "outputs": [],
   "source": [
    "salary_numeric=salary_data.select_dtypes(exclude='object')\n",
    "salary_numeric"
   ]
  },
  {
   "cell_type": "code",
   "execution_count": null,
   "id": "9cc120c0",
   "metadata": {},
   "outputs": [],
   "source": [
    "for i in salary_numeric.columns:\n",
    "    plt.hist(salary_numeric[i],\n",
    "         color='#47c9ed',\n",
    "         bins=25\n",
    "        )\n",
    "    plt.title(f\"Distribution of {i}\")\n",
    "    plt.show()"
   ]
  },
  {
   "cell_type": "markdown",
   "id": "17849b3b",
   "metadata": {},
   "source": [
    "# 11."
   ]
  },
  {
   "cell_type": "code",
   "execution_count": null,
   "id": "5d6e805b",
   "metadata": {},
   "outputs": [],
   "source": [
    "tickers=['AAPL','MRNA', 'AHPI', 'SAVA','AMZN']"
   ]
  },
  {
   "cell_type": "code",
   "execution_count": null,
   "id": "8ba3f5d6",
   "metadata": {},
   "outputs": [],
   "source": [
    "data_stocks=data.DataReader(name=tickers,\n",
    "                           data_source='yahoo',\n",
    "                           start='2020-01-01',\n",
    "                           end='2021-01-01')"
   ]
  },
  {
   "cell_type": "code",
   "execution_count": null,
   "id": "03c4a4ce",
   "metadata": {},
   "outputs": [],
   "source": [
    "data_stocks.head()"
   ]
  },
  {
   "cell_type": "code",
   "execution_count": null,
   "id": "19e30908",
   "metadata": {},
   "outputs": [],
   "source": [
    "data_stocks.info()"
   ]
  },
  {
   "cell_type": "code",
   "execution_count": null,
   "id": "bb46b44f",
   "metadata": {},
   "outputs": [],
   "source": [
    "data_stocks.columns=data_stocks.columns.map('_'.join)"
   ]
  },
  {
   "cell_type": "code",
   "execution_count": null,
   "id": "67362fdb",
   "metadata": {},
   "outputs": [],
   "source": [
    "fig=go.Figure()\n",
    "\n",
    "fig.add_trace(go.Scatter(x=data_stocks.index,\n",
    "                        y=data_stocks.Open_AAPL,\n",
    "                        mode='lines',\n",
    "                        name='Open Price of AAPL'))\n",
    "\n",
    "fig.add_trace(go.Scatter(x=data_stocks.index,\n",
    "                        y=data_stocks.Open_MRNA,\n",
    "                        mode='lines',\n",
    "                        name='Open Price of MRNA'))\n",
    "\n",
    "fig.add_trace(go.Scatter(x=data_stocks.index,\n",
    "                        y=data_stocks.Open_AHPI,\n",
    "                        mode='lines',\n",
    "                        name='Open Price of AHPI'))\n",
    "\n",
    "fig.add_trace(go.Scatter(x=data_stocks.index,\n",
    "                        y=data_stocks.Open_SAVA,\n",
    "                        mode='lines',\n",
    "                        name='Open Price of SAVA'))\n",
    "\n",
    "fig.add_trace(go.Scatter(x=data_stocks.index,\n",
    "                        y=data_stocks.Open_AMZN,\n",
    "                        mode='lines',\n",
    "                        name='Open Price of AMZN'))\n",
    "\n",
    "fig.update_layout(title='Comparison of Open Prices Between Stocks')\n",
    "\n",
    "fig.show()"
   ]
  },
  {
   "cell_type": "markdown",
   "id": "1503145d",
   "metadata": {},
   "source": [
    "# 12."
   ]
  },
  {
   "cell_type": "code",
   "execution_count": null,
   "id": "6526e2d9",
   "metadata": {},
   "outputs": [],
   "source": [
    "import plotly.express as px"
   ]
  },
  {
   "cell_type": "code",
   "execution_count": null,
   "id": "d8778cb9",
   "metadata": {},
   "outputs": [],
   "source": [
    "for i in salary_numeric.columns:\n",
    "    fig= px.histogram(salary_numeric[i])\n",
    "    fig.show()\n",
    "    \n"
   ]
  },
  {
   "cell_type": "markdown",
   "id": "5848be48",
   "metadata": {},
   "source": [
    ">> It can be assumed from the charts that the variables \"Age\" and \"fnlwgt\" are skewed right , but the variable \"Hours Per Week\" has a symmetrical pattern of distribution. From the first histogram we can see that the people between the age 25-38 has higher values than others. From the second histogram we can assume, that 0.2 million \"fnlwgt' has the highest value. And finally, from the third histogram we can see that the ones who worked 40 hours per week has the highest income."
   ]
  }
 ],
 "metadata": {
  "kernelspec": {
   "display_name": "Python 3",
   "language": "python",
   "name": "python3"
  },
  "language_info": {
   "codemirror_mode": {
    "name": "ipython",
    "version": 3
   },
   "file_extension": ".py",
   "mimetype": "text/x-python",
   "name": "python",
   "nbconvert_exporter": "python",
   "pygments_lexer": "ipython3",
   "version": "3.8.8"
  }
 },
 "nbformat": 4,
 "nbformat_minor": 5
}
