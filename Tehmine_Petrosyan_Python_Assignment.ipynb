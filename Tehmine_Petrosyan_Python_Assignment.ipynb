{
 "cells": [
  {
   "cell_type": "markdown",
   "id": "0f97991c",
   "metadata": {},
   "source": [
    "# Problem 1.a."
   ]
  },
  {
   "cell_type": "code",
   "execution_count": 1,
   "id": "bb40a053",
   "metadata": {},
   "outputs": [
    {
     "name": "stdout",
     "output_type": "stream",
     "text": [
      "<class 'float'>\n",
      "<class 'bool'>\n",
      "<class 'int'>\n",
      "<class 'int'>\n"
     ]
    }
   ],
   "source": [
    "import math\n",
    "print(type(\n",
    "225+2.0))\n",
    "print(type(230*2==2*230))\n",
    "print(type(round(1.056)))\n",
    "print(type(math.ceil(14.56)))"
   ]
  },
  {
   "cell_type": "markdown",
   "id": "d8749b24",
   "metadata": {},
   "source": [
    "# Problem 1.b."
   ]
  },
  {
   "cell_type": "code",
   "execution_count": null,
   "id": "d470ccaf",
   "metadata": {},
   "outputs": [],
   "source": [
    "Full_name_of_movie = input(\"What is your favorite movie?\")\n",
    "Director_name = input(\"What is the name of movie director?\")\n",
    "Year_of_production = input(\"When it was produced?\")\n"
   ]
  },
  {
   "cell_type": "markdown",
   "id": "e29fe959",
   "metadata": {},
   "source": [
    "# Problem 1.c."
   ]
  },
  {
   "cell_type": "code",
   "execution_count": 5,
   "id": "1acb98ee",
   "metadata": {},
   "outputs": [
    {
     "name": "stdout",
     "output_type": "stream",
     "text": [
      "['APPL', 'GOOG', 'TSLA', 'LUV', 'DTSS']\n"
     ]
    }
   ],
   "source": [
    "Stocks = []\n",
    "Stocks.append(\"APPL\")\n",
    "Stocks.append(\"GOOG\")\n",
    "Stocks.append(\"TSLA\")\n",
    "Stocks.append(\"LUV\")\n",
    "Stocks.append(\"DTSS\")\n",
    "print(Stocks)\n"
   ]
  },
  {
   "cell_type": "markdown",
   "id": "e8bace3a",
   "metadata": {},
   "source": [
    "# Problem 2.a."
   ]
  },
  {
   "cell_type": "code",
   "execution_count": 6,
   "id": "f7798c61",
   "metadata": {},
   "outputs": [
    {
     "name": "stdout",
     "output_type": "stream",
     "text": [
      "25 is odd number\n"
     ]
    }
   ],
   "source": [
    "N=25\n",
    "if N % 2==0:\n",
    "    print(\"25 is even number\")\n",
    "else:\n",
    "    print(\"25 is odd number\")"
   ]
  },
  {
   "cell_type": "markdown",
   "id": "cdc68895",
   "metadata": {},
   "source": [
    "# Problem 2.b."
   ]
  },
  {
   "cell_type": "code",
   "execution_count": 172,
   "id": "1e9ce4b5",
   "metadata": {},
   "outputs": [
    {
     "name": "stdout",
     "output_type": "stream",
     "text": [
      "Hin Areni Red 2014: Other\n"
     ]
    },
    {
     "data": {
      "text/plain": [
       "['Thomas Fogarty 2018 Razorback Vineyard Pinot Noir: Pinot Noir',\n",
       " 'Migration 2018 Drum Canyon Vineyard Pinot Noir: Pinot Noir',\n",
       " 'Calera 2018 Jensen Vineyard Pinot Noir: Pinot Noir',\n",
       " 'Hin Areni Red 2014: Areni']"
      ]
     },
     "execution_count": 172,
     "metadata": {},
     "output_type": "execute_result"
    }
   ],
   "source": [
    "list_of_wines=[\"Thomas Fogarty 2018 Razorback Vineyard Pinot Noir\", \"Migration 2018 Drum Canyon Vineyard Pinot Noir\", \"Zorah Voski 2018\", \"Curto Marco 2017 Arborina (Barolo)\",\"Calera 2018 Jensen Vineyard Pinot Noir\", \"Hin Areni Red 2014\"]\n",
    "\n",
    "list_of_wines1=[]\n",
    "\n",
    "for i in list_of_wines:\n",
    "     if \"Pinot\" in i:\n",
    "         list_of_wines1.append(i +\": Pinot Noir\")\n",
    "     elif \"Areni\" in i:\n",
    "         list_of_wines1.append(i +\": Areni\")\n",
    "else:\n",
    "      print(i +\": Other\")\n",
    "\n",
    "list_of_wines1"
   ]
  },
  {
   "cell_type": "markdown",
   "id": "18f6f59c",
   "metadata": {},
   "source": [
    "# Problem 4.a."
   ]
  },
  {
   "cell_type": "code",
   "execution_count": 216,
   "id": "47e63ddb",
   "metadata": {},
   "outputs": [
    {
     "name": "stdout",
     "output_type": "stream",
     "text": [
      "dict_keys(['AAPL', 'GOOG', 'TSLA', 'LUV', 'DTSS'])\n",
      "dict_values(['Apple Inc.', '\"Alphabet', 'Tesla Inc.', 'Southwest Airlines Co', 'Datasea Inc'])\n"
     ]
    }
   ],
   "source": [
    "stocks_tickers = {'AAPL':'Apple Inc.','GOOG':'\"Alphabet','TSLA':'Tesla Inc.','LUV':'Southwest Airlines Co',\n",
    "               'DTSS':'Datasea Inc'}\n",
    "print(stocks_tickers.keys())\n",
    "print(stocks_tickers.values())"
   ]
  },
  {
   "cell_type": "markdown",
   "id": "5dd02738",
   "metadata": {},
   "source": [
    "# Problem 5.a."
   ]
  },
  {
   "cell_type": "code",
   "execution_count": 179,
   "id": "3b77ea54",
   "metadata": {},
   "outputs": [],
   "source": [
    "def max_finder(x):\n",
    "    max_value = x[0]\n",
    "    for i in range(len(x)):\n",
    "        if x[i]>max_value:\n",
    "            max_value = x[i]\n",
    "            \n",
    "    print(max_value)"
   ]
  },
  {
   "cell_type": "code",
   "execution_count": 178,
   "id": "6029a9cf",
   "metadata": {},
   "outputs": [
    {
     "name": "stdout",
     "output_type": "stream",
     "text": [
      "12\n"
     ]
    }
   ],
   "source": [
    "list_of_numbers = [-10,0,12,3,8,5,6,8,-3]\n",
    "max_finder(list_of_numbers)"
   ]
  },
  {
   "cell_type": "markdown",
   "id": "600d2778",
   "metadata": {},
   "source": [
    "# Problem 5.b."
   ]
  },
  {
   "cell_type": "code",
   "execution_count": null,
   "id": "85f146b1",
   "metadata": {},
   "outputs": [],
   "source": [
    "import sys"
   ]
  },
  {
   "cell_type": "code",
   "execution_count": 182,
   "id": "ee8f5afd",
   "metadata": {},
   "outputs": [
    {
     "name": "stdout",
     "output_type": "stream",
     "text": [
      "Could you ,please, rate your Satisfaction from one to five?5\n",
      "Strongly Satisfied\n"
     ]
    }
   ],
   "source": [
    "#try-catch or in Python try-except\n",
    "try:\n",
    "    Rate = int(input(\"Could you ,please, rate your Satisfaction from one to five?\"))\n",
    "    if Rate == 1:\n",
    "        print('strongly dissatisfied')\n",
    "    elif Rate == 2:\n",
    "            print('Dissatisfied')\n",
    "    elif Rate == 3:\n",
    "            print('Neither dissatisfied nor satisfied')\n",
    "    elif Rate == 4:\n",
    "                print('Satisfied')\n",
    "    elif Rate == 5:\n",
    "                    print('Strongly Satisfied')\n",
    "    else:\n",
    "        print('Invalid input')\n",
    "                    \n",
    "except:\n",
    "    print(\"Please, enter numeric information\")\n",
    "\n"
   ]
  },
  {
   "cell_type": "markdown",
   "id": "959baa9a",
   "metadata": {},
   "source": [
    "# Problem 6.a."
   ]
  },
  {
   "cell_type": "code",
   "execution_count": 13,
   "id": "b3259c01",
   "metadata": {},
   "outputs": [],
   "source": [
    "#importing some libraries\n",
    "import seaborn as sns #visuals\n",
    "import numpy as np \n",
    "import pandas as pd #working w/ dataframes\n",
    "import matplotlib.pyplot as plt #visuals\n"
   ]
  },
  {
   "cell_type": "code",
   "execution_count": 14,
   "id": "a23b9696",
   "metadata": {},
   "outputs": [
    {
     "data": {
      "text/html": [
       "<div>\n",
       "<style scoped>\n",
       "    .dataframe tbody tr th:only-of-type {\n",
       "        vertical-align: middle;\n",
       "    }\n",
       "\n",
       "    .dataframe tbody tr th {\n",
       "        vertical-align: top;\n",
       "    }\n",
       "\n",
       "    .dataframe thead th {\n",
       "        text-align: right;\n",
       "    }\n",
       "</style>\n",
       "<table border=\"1\" class=\"dataframe\">\n",
       "  <thead>\n",
       "    <tr style=\"text-align: right;\">\n",
       "      <th></th>\n",
       "      <th>ID</th>\n",
       "      <th>affairs</th>\n",
       "      <th>gender</th>\n",
       "      <th>age</th>\n",
       "      <th>years married</th>\n",
       "      <th>children</th>\n",
       "      <th>religiousness rating</th>\n",
       "      <th>education</th>\n",
       "      <th>occupation</th>\n",
       "      <th>rating</th>\n",
       "    </tr>\n",
       "  </thead>\n",
       "  <tbody>\n",
       "    <tr>\n",
       "      <th>0</th>\n",
       "      <td>4</td>\n",
       "      <td>No</td>\n",
       "      <td>male</td>\n",
       "      <td>37.0</td>\n",
       "      <td>10.00</td>\n",
       "      <td>no</td>\n",
       "      <td>3</td>\n",
       "      <td>18.0</td>\n",
       "      <td>7</td>\n",
       "      <td>4</td>\n",
       "    </tr>\n",
       "    <tr>\n",
       "      <th>1</th>\n",
       "      <td>5</td>\n",
       "      <td>No</td>\n",
       "      <td>female</td>\n",
       "      <td>27.0</td>\n",
       "      <td>4.00</td>\n",
       "      <td>no</td>\n",
       "      <td>4</td>\n",
       "      <td>14.0</td>\n",
       "      <td>6</td>\n",
       "      <td>4</td>\n",
       "    </tr>\n",
       "    <tr>\n",
       "      <th>2</th>\n",
       "      <td>11</td>\n",
       "      <td>No</td>\n",
       "      <td>female</td>\n",
       "      <td>32.0</td>\n",
       "      <td>15.00</td>\n",
       "      <td>yes</td>\n",
       "      <td>1</td>\n",
       "      <td>12.0</td>\n",
       "      <td>1</td>\n",
       "      <td>4</td>\n",
       "    </tr>\n",
       "    <tr>\n",
       "      <th>3</th>\n",
       "      <td>16</td>\n",
       "      <td>No</td>\n",
       "      <td>male</td>\n",
       "      <td>57.0</td>\n",
       "      <td>15.00</td>\n",
       "      <td>yes</td>\n",
       "      <td>5</td>\n",
       "      <td>18.0</td>\n",
       "      <td>6</td>\n",
       "      <td>5</td>\n",
       "    </tr>\n",
       "    <tr>\n",
       "      <th>4</th>\n",
       "      <td>23</td>\n",
       "      <td>No</td>\n",
       "      <td>male</td>\n",
       "      <td>22.0</td>\n",
       "      <td>0.75</td>\n",
       "      <td>no</td>\n",
       "      <td>2</td>\n",
       "      <td>17.0</td>\n",
       "      <td>6</td>\n",
       "      <td>3</td>\n",
       "    </tr>\n",
       "    <tr>\n",
       "      <th>...</th>\n",
       "      <td>...</td>\n",
       "      <td>...</td>\n",
       "      <td>...</td>\n",
       "      <td>...</td>\n",
       "      <td>...</td>\n",
       "      <td>...</td>\n",
       "      <td>...</td>\n",
       "      <td>...</td>\n",
       "      <td>...</td>\n",
       "      <td>...</td>\n",
       "    </tr>\n",
       "    <tr>\n",
       "      <th>596</th>\n",
       "      <td>1938</td>\n",
       "      <td>Yes</td>\n",
       "      <td>male</td>\n",
       "      <td>22.0</td>\n",
       "      <td>1.50</td>\n",
       "      <td>yes</td>\n",
       "      <td>1</td>\n",
       "      <td>12.0</td>\n",
       "      <td>2</td>\n",
       "      <td>5</td>\n",
       "    </tr>\n",
       "    <tr>\n",
       "      <th>597</th>\n",
       "      <td>1941</td>\n",
       "      <td>Yes</td>\n",
       "      <td>female</td>\n",
       "      <td>32.0</td>\n",
       "      <td>10.00</td>\n",
       "      <td>yes</td>\n",
       "      <td>2</td>\n",
       "      <td>18.0</td>\n",
       "      <td>5</td>\n",
       "      <td>4</td>\n",
       "    </tr>\n",
       "    <tr>\n",
       "      <th>598</th>\n",
       "      <td>1954</td>\n",
       "      <td>Yes</td>\n",
       "      <td>male</td>\n",
       "      <td>32.0</td>\n",
       "      <td>10.00</td>\n",
       "      <td>yes</td>\n",
       "      <td>2</td>\n",
       "      <td>17.0</td>\n",
       "      <td>6</td>\n",
       "      <td>5</td>\n",
       "    </tr>\n",
       "    <tr>\n",
       "      <th>599</th>\n",
       "      <td>1959</td>\n",
       "      <td>Yes</td>\n",
       "      <td>male</td>\n",
       "      <td>22.0</td>\n",
       "      <td>7.00</td>\n",
       "      <td>yes</td>\n",
       "      <td>3</td>\n",
       "      <td>18.0</td>\n",
       "      <td>6</td>\n",
       "      <td>2</td>\n",
       "    </tr>\n",
       "    <tr>\n",
       "      <th>600</th>\n",
       "      <td>9010</td>\n",
       "      <td>Yes</td>\n",
       "      <td>female</td>\n",
       "      <td>32.0</td>\n",
       "      <td>15.00</td>\n",
       "      <td>yes</td>\n",
       "      <td>3</td>\n",
       "      <td>14.0</td>\n",
       "      <td>1</td>\n",
       "      <td>5</td>\n",
       "    </tr>\n",
       "  </tbody>\n",
       "</table>\n",
       "<p>601 rows × 10 columns</p>\n",
       "</div>"
      ],
      "text/plain": [
       "       ID affairs  gender   age  years married children  religiousness rating  \\\n",
       "0       4      No    male  37.0          10.00       no                     3   \n",
       "1       5      No  female  27.0           4.00       no                     4   \n",
       "2      11      No  female  32.0          15.00      yes                     1   \n",
       "3      16      No    male  57.0          15.00      yes                     5   \n",
       "4      23      No    male  22.0           0.75       no                     2   \n",
       "..    ...     ...     ...   ...            ...      ...                   ...   \n",
       "596  1938     Yes    male  22.0           1.50      yes                     1   \n",
       "597  1941     Yes  female  32.0          10.00      yes                     2   \n",
       "598  1954     Yes    male  32.0          10.00      yes                     2   \n",
       "599  1959     Yes    male  22.0           7.00      yes                     3   \n",
       "600  9010     Yes  female  32.0          15.00      yes                     3   \n",
       "\n",
       "     education  occupation  rating  \n",
       "0         18.0           7       4  \n",
       "1         14.0           6       4  \n",
       "2         12.0           1       4  \n",
       "3         18.0           6       5  \n",
       "4         17.0           6       3  \n",
       "..         ...         ...     ...  \n",
       "596       12.0           2       5  \n",
       "597       18.0           5       4  \n",
       "598       17.0           6       5  \n",
       "599       18.0           6       2  \n",
       "600       14.0           1       5  \n",
       "\n",
       "[601 rows x 10 columns]"
      ]
     },
     "execution_count": 14,
     "metadata": {},
     "output_type": "execute_result"
    }
   ],
   "source": [
    "affairs = pd.read_excel('Affairs.xlsx')\n",
    "affairs"
   ]
  },
  {
   "cell_type": "markdown",
   "id": "136e0463",
   "metadata": {},
   "source": [
    "# Problem 7.a."
   ]
  },
  {
   "cell_type": "code",
   "execution_count": 15,
   "id": "292bd4bd",
   "metadata": {},
   "outputs": [
    {
     "data": {
      "text/plain": [
       "(601, 10)"
      ]
     },
     "execution_count": 15,
     "metadata": {},
     "output_type": "execute_result"
    }
   ],
   "source": [
    "affairs.shape"
   ]
  },
  {
   "cell_type": "markdown",
   "id": "7b4889fd",
   "metadata": {},
   "source": [
    "# Problem 7.b."
   ]
  },
  {
   "cell_type": "code",
   "execution_count": 16,
   "id": "ec40a68a",
   "metadata": {},
   "outputs": [
    {
     "data": {
      "text/plain": [
       "6"
      ]
     },
     "execution_count": 16,
     "metadata": {},
     "output_type": "execute_result"
    }
   ],
   "source": [
    "affairs.isna().sum().sum()"
   ]
  },
  {
   "cell_type": "markdown",
   "id": "07547ee5",
   "metadata": {},
   "source": [
    "# Problem 7.c."
   ]
  },
  {
   "cell_type": "code",
   "execution_count": 17,
   "id": "118f76ef",
   "metadata": {},
   "outputs": [
    {
     "data": {
      "text/plain": [
       "ID                      0\n",
       "affairs                 0\n",
       "gender                  2\n",
       "age                     2\n",
       "years married           0\n",
       "children                1\n",
       "religiousness rating    0\n",
       "education               1\n",
       "occupation              0\n",
       "rating                  0\n",
       "dtype: int64"
      ]
     },
     "execution_count": 17,
     "metadata": {},
     "output_type": "execute_result"
    }
   ],
   "source": [
    "affairs.isna().sum()"
   ]
  },
  {
   "cell_type": "markdown",
   "id": "0d23a07c",
   "metadata": {},
   "source": [
    "# Problem 7.e."
   ]
  },
  {
   "cell_type": "code",
   "execution_count": 49,
   "id": "6dceb6a1",
   "metadata": {},
   "outputs": [],
   "source": [
    "id_904=affairs[affairs['ID']==904]"
   ]
  },
  {
   "cell_type": "code",
   "execution_count": 46,
   "id": "e9ef117a",
   "metadata": {},
   "outputs": [],
   "source": [
    "gender_904=id_904[\"gender\"].values[0]"
   ]
  },
  {
   "cell_type": "code",
   "execution_count": 48,
   "id": "57c07883",
   "metadata": {},
   "outputs": [
    {
     "name": "stdout",
     "output_type": "stream",
     "text": [
      "Gender of customer - male.Age of customer - 15 years.\n"
     ]
    }
   ],
   "source": [
    "years_married_904=int(id_904[\"years married\"].values[0])\n",
    "print(f\"Gender of customer - {gender_904}.Age of customer - {years_married_904} years.\")"
   ]
  },
  {
   "cell_type": "code",
   "execution_count": 19,
   "id": "7e8a5e65",
   "metadata": {},
   "outputs": [
    {
     "name": "stdout",
     "output_type": "stream",
     "text": [
      "<class 'pandas.core.frame.DataFrame'>\n",
      "RangeIndex: 601 entries, 0 to 600\n",
      "Data columns (total 10 columns):\n",
      " #   Column                Non-Null Count  Dtype  \n",
      "---  ------                --------------  -----  \n",
      " 0   ID                    601 non-null    int64  \n",
      " 1   affairs               601 non-null    object \n",
      " 2   gender                599 non-null    object \n",
      " 3   age                   599 non-null    float64\n",
      " 4   years married         601 non-null    float64\n",
      " 5   children              600 non-null    object \n",
      " 6   religiousness rating  601 non-null    int64  \n",
      " 7   education             600 non-null    float64\n",
      " 8   occupation            601 non-null    int64  \n",
      " 9   rating                601 non-null    int64  \n",
      "dtypes: float64(3), int64(4), object(3)\n",
      "memory usage: 47.1+ KB\n"
     ]
    }
   ],
   "source": [
    "affairs.info()"
   ]
  },
  {
   "cell_type": "markdown",
   "id": "d23024cf",
   "metadata": {},
   "source": [
    "# Problem 7.d."
   ]
  },
  {
   "cell_type": "code",
   "execution_count": 43,
   "id": "b92d6c31",
   "metadata": {},
   "outputs": [
    {
     "data": {
      "text/plain": [
       "7"
      ]
     },
     "execution_count": 43,
     "metadata": {},
     "output_type": "execute_result"
    }
   ],
   "source": [
    "numeric=affairs.select_dtypes(exclude=['object']).sum().count()\n",
    "numeric"
   ]
  },
  {
   "cell_type": "code",
   "execution_count": 44,
   "id": "586aedc0",
   "metadata": {},
   "outputs": [
    {
     "data": {
      "text/plain": [
       "1"
      ]
     },
     "execution_count": 44,
     "metadata": {},
     "output_type": "execute_result"
    }
   ],
   "source": [
    "non_numeric=affairs.select_dtypes(exclude=['number']).sum().count()\n",
    "non_numeric"
   ]
  },
  {
   "cell_type": "markdown",
   "id": "60cc9f5d",
   "metadata": {},
   "source": [
    "# Problem 7.h."
   ]
  },
  {
   "cell_type": "code",
   "execution_count": 22,
   "id": "45b55708",
   "metadata": {},
   "outputs": [
    {
     "name": "stdout",
     "output_type": "stream",
     "text": [
      "5.0\n"
     ]
    }
   ],
   "source": [
    "a=affairs.rating\n",
    "print(np.percentile(a,75))\n",
    "    "
   ]
  },
  {
   "cell_type": "markdown",
   "id": "1483e055",
   "metadata": {},
   "source": [
    "# Problem 7.g."
   ]
  },
  {
   "cell_type": "code",
   "execution_count": 23,
   "id": "f66dbb89",
   "metadata": {},
   "outputs": [
    {
     "data": {
      "text/plain": [
       "7.0"
      ]
     },
     "execution_count": 23,
     "metadata": {},
     "output_type": "execute_result"
    }
   ],
   "source": [
    "affairs['years married'].median()"
   ]
  },
  {
   "cell_type": "markdown",
   "id": "eb92a4ce",
   "metadata": {},
   "source": [
    "# Problem 7.f."
   ]
  },
  {
   "cell_type": "code",
   "execution_count": 24,
   "id": "31a1d076",
   "metadata": {},
   "outputs": [
    {
     "data": {
      "text/plain": [
       "16.17"
      ]
     },
     "execution_count": 24,
     "metadata": {},
     "output_type": "execute_result"
    }
   ],
   "source": [
    "affairs.education.mean()"
   ]
  },
  {
   "cell_type": "markdown",
   "id": "eb99f8bc",
   "metadata": {},
   "source": [
    "# Problem 7.i."
   ]
  },
  {
   "cell_type": "code",
   "execution_count": 148,
   "id": "68d2c681",
   "metadata": {},
   "outputs": [
    {
     "data": {
      "text/plain": [
       "33.41"
      ]
     },
     "execution_count": 148,
     "metadata": {},
     "output_type": "execute_result"
    }
   ],
   "source": [
    "have_affairs == affairs[affairs[\"affairs\"]==\"Yes\"]\n",
    "have_affairs.age.mean()"
   ]
  },
  {
   "cell_type": "markdown",
   "id": "b7e1609d",
   "metadata": {},
   "source": [
    "# Problem 7.j."
   ]
  },
  {
   "cell_type": "code",
   "execution_count": 183,
   "id": "607ae22b",
   "metadata": {},
   "outputs": [
    {
     "name": "stdout",
     "output_type": "stream",
     "text": [
      "\n",
      " ID \n",
      "\n",
      "1026    1\n",
      "670     1\n",
      "927     1\n",
      "673     1\n",
      "1698    1\n",
      "       ..\n",
      "1732    1\n",
      "324     1\n",
      "325     1\n",
      "1352    1\n",
      "1021    1\n",
      "Name: ID, Length: 601, dtype: int64\n",
      "\n",
      " affairs \n",
      "\n",
      "No     451\n",
      "Yes    150\n",
      "Name: affairs, dtype: int64\n",
      "\n",
      " gender \n",
      "\n",
      "female    313\n",
      "male      286\n",
      "Name: gender, dtype: int64\n",
      "\n",
      " age \n",
      "\n",
      "27.0    151\n",
      "22.0    117\n",
      "32.0    115\n",
      "37.0     88\n",
      "42.0     56\n",
      "47.0     23\n",
      "57.0     22\n",
      "52.0     21\n",
      "17.5      6\n",
      "Name: age, dtype: int64\n",
      "\n",
      " years married \n",
      "\n",
      "15.000    204\n",
      "4.000     105\n",
      "1.500      88\n",
      "7.000      82\n",
      "10.000     70\n",
      "0.750      31\n",
      "0.125      11\n",
      "0.417      10\n",
      "Name: years married, dtype: int64\n",
      "\n",
      " children \n",
      "\n",
      "yes    429\n",
      "no     171\n",
      "Name: children, dtype: int64\n",
      "\n",
      " religiousness rating \n",
      "\n",
      "4    190\n",
      "2    164\n",
      "3    129\n",
      "5     70\n",
      "1     48\n",
      "Name: religiousness rating, dtype: int64\n",
      "\n",
      " education \n",
      "\n",
      "14.0    153\n",
      "16.0    115\n",
      "18.0    112\n",
      "17.0     89\n",
      "20.0     80\n",
      "12.0     44\n",
      "9.0       7\n",
      "Name: education, dtype: int64\n",
      "\n",
      " occupation \n",
      "\n",
      "5    204\n",
      "6    143\n",
      "1    113\n",
      "4     68\n",
      "3     47\n",
      "2     13\n",
      "7     13\n",
      "Name: occupation, dtype: int64\n",
      "\n",
      " rating \n",
      "\n",
      "5    232\n",
      "4    194\n",
      "3     93\n",
      "2     66\n",
      "1     16\n",
      "Name: rating, dtype: int64\n"
     ]
    }
   ],
   "source": [
    "for i in affairs.columns:\n",
    "    print(\"\\n\",i,\"\\n\")\n",
    "    \n",
    "    print(affairs[i].value_counts())"
   ]
  },
  {
   "cell_type": "markdown",
   "id": "7df8bdc5",
   "metadata": {},
   "source": [
    "# Problem 7.k."
   ]
  },
  {
   "cell_type": "code",
   "execution_count": 153,
   "id": "49a93602",
   "metadata": {},
   "outputs": [
    {
     "name": "stdout",
     "output_type": "stream",
     "text": [
      "affairs ['No' 'Yes']\n",
      "gender ['male' 'female' nan]\n",
      "children ['no' 'yes' nan]\n"
     ]
    }
   ],
   "source": [
    "for i in affairs.columns:\n",
    "    if i == \"affairs\":\n",
    "        print(i, affairs[i].unique())\n",
    "    elif i == \"gender\":\n",
    "        print(i, affairs[i].unique())\n",
    "    elif i == \"children\":\n",
    "        print(i,affairs[i].unique())\n"
   ]
  },
  {
   "cell_type": "markdown",
   "id": "7fe9dc1c",
   "metadata": {},
   "source": [
    "# Problem 8.a."
   ]
  },
  {
   "cell_type": "code",
   "execution_count": 185,
   "id": "a44eac00",
   "metadata": {},
   "outputs": [
    {
     "data": {
      "text/html": [
       "<div>\n",
       "<style scoped>\n",
       "    .dataframe tbody tr th:only-of-type {\n",
       "        vertical-align: middle;\n",
       "    }\n",
       "\n",
       "    .dataframe tbody tr th {\n",
       "        vertical-align: top;\n",
       "    }\n",
       "\n",
       "    .dataframe thead th {\n",
       "        text-align: right;\n",
       "    }\n",
       "</style>\n",
       "<table border=\"1\" class=\"dataframe\">\n",
       "  <thead>\n",
       "    <tr style=\"text-align: right;\">\n",
       "      <th></th>\n",
       "      <th>ID</th>\n",
       "      <th>affairs</th>\n",
       "      <th>gender</th>\n",
       "      <th>age</th>\n",
       "      <th>years married</th>\n",
       "      <th>children</th>\n",
       "      <th>religiousness rating</th>\n",
       "      <th>education</th>\n",
       "      <th>occupation</th>\n",
       "      <th>rating</th>\n",
       "    </tr>\n",
       "  </thead>\n",
       "  <tbody>\n",
       "    <tr>\n",
       "      <th>0</th>\n",
       "      <td>4</td>\n",
       "      <td>No</td>\n",
       "      <td>male</td>\n",
       "      <td>37.0</td>\n",
       "      <td>10.00</td>\n",
       "      <td>no</td>\n",
       "      <td>3</td>\n",
       "      <td>18.0</td>\n",
       "      <td>7</td>\n",
       "      <td>4</td>\n",
       "    </tr>\n",
       "    <tr>\n",
       "      <th>1</th>\n",
       "      <td>5</td>\n",
       "      <td>No</td>\n",
       "      <td>female</td>\n",
       "      <td>27.0</td>\n",
       "      <td>4.00</td>\n",
       "      <td>no</td>\n",
       "      <td>4</td>\n",
       "      <td>14.0</td>\n",
       "      <td>6</td>\n",
       "      <td>4</td>\n",
       "    </tr>\n",
       "    <tr>\n",
       "      <th>2</th>\n",
       "      <td>11</td>\n",
       "      <td>No</td>\n",
       "      <td>female</td>\n",
       "      <td>32.0</td>\n",
       "      <td>15.00</td>\n",
       "      <td>yes</td>\n",
       "      <td>1</td>\n",
       "      <td>12.0</td>\n",
       "      <td>1</td>\n",
       "      <td>4</td>\n",
       "    </tr>\n",
       "    <tr>\n",
       "      <th>3</th>\n",
       "      <td>16</td>\n",
       "      <td>No</td>\n",
       "      <td>male</td>\n",
       "      <td>57.0</td>\n",
       "      <td>15.00</td>\n",
       "      <td>yes</td>\n",
       "      <td>5</td>\n",
       "      <td>18.0</td>\n",
       "      <td>6</td>\n",
       "      <td>5</td>\n",
       "    </tr>\n",
       "    <tr>\n",
       "      <th>4</th>\n",
       "      <td>23</td>\n",
       "      <td>No</td>\n",
       "      <td>male</td>\n",
       "      <td>22.0</td>\n",
       "      <td>0.75</td>\n",
       "      <td>no</td>\n",
       "      <td>2</td>\n",
       "      <td>17.0</td>\n",
       "      <td>6</td>\n",
       "      <td>3</td>\n",
       "    </tr>\n",
       "    <tr>\n",
       "      <th>...</th>\n",
       "      <td>...</td>\n",
       "      <td>...</td>\n",
       "      <td>...</td>\n",
       "      <td>...</td>\n",
       "      <td>...</td>\n",
       "      <td>...</td>\n",
       "      <td>...</td>\n",
       "      <td>...</td>\n",
       "      <td>...</td>\n",
       "      <td>...</td>\n",
       "    </tr>\n",
       "    <tr>\n",
       "      <th>596</th>\n",
       "      <td>1938</td>\n",
       "      <td>Yes</td>\n",
       "      <td>male</td>\n",
       "      <td>22.0</td>\n",
       "      <td>1.50</td>\n",
       "      <td>yes</td>\n",
       "      <td>1</td>\n",
       "      <td>12.0</td>\n",
       "      <td>2</td>\n",
       "      <td>5</td>\n",
       "    </tr>\n",
       "    <tr>\n",
       "      <th>597</th>\n",
       "      <td>1941</td>\n",
       "      <td>Yes</td>\n",
       "      <td>female</td>\n",
       "      <td>32.0</td>\n",
       "      <td>10.00</td>\n",
       "      <td>yes</td>\n",
       "      <td>2</td>\n",
       "      <td>18.0</td>\n",
       "      <td>5</td>\n",
       "      <td>4</td>\n",
       "    </tr>\n",
       "    <tr>\n",
       "      <th>598</th>\n",
       "      <td>1954</td>\n",
       "      <td>Yes</td>\n",
       "      <td>male</td>\n",
       "      <td>32.0</td>\n",
       "      <td>10.00</td>\n",
       "      <td>yes</td>\n",
       "      <td>2</td>\n",
       "      <td>17.0</td>\n",
       "      <td>6</td>\n",
       "      <td>5</td>\n",
       "    </tr>\n",
       "    <tr>\n",
       "      <th>599</th>\n",
       "      <td>1959</td>\n",
       "      <td>Yes</td>\n",
       "      <td>male</td>\n",
       "      <td>22.0</td>\n",
       "      <td>7.00</td>\n",
       "      <td>yes</td>\n",
       "      <td>3</td>\n",
       "      <td>18.0</td>\n",
       "      <td>6</td>\n",
       "      <td>2</td>\n",
       "    </tr>\n",
       "    <tr>\n",
       "      <th>600</th>\n",
       "      <td>9010</td>\n",
       "      <td>Yes</td>\n",
       "      <td>female</td>\n",
       "      <td>32.0</td>\n",
       "      <td>15.00</td>\n",
       "      <td>yes</td>\n",
       "      <td>3</td>\n",
       "      <td>14.0</td>\n",
       "      <td>1</td>\n",
       "      <td>5</td>\n",
       "    </tr>\n",
       "  </tbody>\n",
       "</table>\n",
       "<p>595 rows × 10 columns</p>\n",
       "</div>"
      ],
      "text/plain": [
       "       ID affairs  gender   age  years married children  religiousness rating  \\\n",
       "0       4      No    male  37.0          10.00       no                     3   \n",
       "1       5      No  female  27.0           4.00       no                     4   \n",
       "2      11      No  female  32.0          15.00      yes                     1   \n",
       "3      16      No    male  57.0          15.00      yes                     5   \n",
       "4      23      No    male  22.0           0.75       no                     2   \n",
       "..    ...     ...     ...   ...            ...      ...                   ...   \n",
       "596  1938     Yes    male  22.0           1.50      yes                     1   \n",
       "597  1941     Yes  female  32.0          10.00      yes                     2   \n",
       "598  1954     Yes    male  32.0          10.00      yes                     2   \n",
       "599  1959     Yes    male  22.0           7.00      yes                     3   \n",
       "600  9010     Yes  female  32.0          15.00      yes                     3   \n",
       "\n",
       "     education  occupation  rating  \n",
       "0         18.0           7       4  \n",
       "1         14.0           6       4  \n",
       "2         12.0           1       4  \n",
       "3         18.0           6       5  \n",
       "4         17.0           6       3  \n",
       "..         ...         ...     ...  \n",
       "596       12.0           2       5  \n",
       "597       18.0           5       4  \n",
       "598       17.0           6       5  \n",
       "599       18.0           6       2  \n",
       "600       14.0           1       5  \n",
       "\n",
       "[595 rows x 10 columns]"
      ]
     },
     "execution_count": 185,
     "metadata": {},
     "output_type": "execute_result"
    }
   ],
   "source": [
    "data_clean=affairs.dropna()\n",
    "data_clean"
   ]
  },
  {
   "cell_type": "code",
   "execution_count": 26,
   "id": "2531ce16",
   "metadata": {},
   "outputs": [
    {
     "data": {
      "text/plain": [
       "Index(['ID', 'affairs', 'years married', 'religiousness rating', 'occupation',\n",
       "       'rating'],\n",
       "      dtype='object')"
      ]
     },
     "execution_count": 26,
     "metadata": {},
     "output_type": "execute_result"
    }
   ],
   "source": [
    "data_clean.columns"
   ]
  },
  {
   "cell_type": "code",
   "execution_count": 191,
   "id": "4f1e48a4",
   "metadata": {
    "scrolled": true
   },
   "outputs": [
    {
     "data": {
      "text/html": [
       "<div>\n",
       "<style scoped>\n",
       "    .dataframe tbody tr th:only-of-type {\n",
       "        vertical-align: middle;\n",
       "    }\n",
       "\n",
       "    .dataframe tbody tr th {\n",
       "        vertical-align: top;\n",
       "    }\n",
       "\n",
       "    .dataframe thead th {\n",
       "        text-align: right;\n",
       "    }\n",
       "</style>\n",
       "<table border=\"1\" class=\"dataframe\">\n",
       "  <thead>\n",
       "    <tr style=\"text-align: right;\">\n",
       "      <th></th>\n",
       "      <th>affairs</th>\n",
       "      <th>gender</th>\n",
       "      <th>age</th>\n",
       "      <th>years married</th>\n",
       "      <th>children</th>\n",
       "      <th>religiousness rating</th>\n",
       "      <th>education</th>\n",
       "      <th>occupation</th>\n",
       "      <th>rating</th>\n",
       "    </tr>\n",
       "  </thead>\n",
       "  <tbody>\n",
       "    <tr>\n",
       "      <th>0</th>\n",
       "      <td>No</td>\n",
       "      <td>male</td>\n",
       "      <td>37.0</td>\n",
       "      <td>10.00</td>\n",
       "      <td>no</td>\n",
       "      <td>3</td>\n",
       "      <td>18.0</td>\n",
       "      <td>7</td>\n",
       "      <td>4</td>\n",
       "    </tr>\n",
       "    <tr>\n",
       "      <th>1</th>\n",
       "      <td>No</td>\n",
       "      <td>female</td>\n",
       "      <td>27.0</td>\n",
       "      <td>4.00</td>\n",
       "      <td>no</td>\n",
       "      <td>4</td>\n",
       "      <td>14.0</td>\n",
       "      <td>6</td>\n",
       "      <td>4</td>\n",
       "    </tr>\n",
       "    <tr>\n",
       "      <th>2</th>\n",
       "      <td>No</td>\n",
       "      <td>female</td>\n",
       "      <td>32.0</td>\n",
       "      <td>15.00</td>\n",
       "      <td>yes</td>\n",
       "      <td>1</td>\n",
       "      <td>12.0</td>\n",
       "      <td>1</td>\n",
       "      <td>4</td>\n",
       "    </tr>\n",
       "    <tr>\n",
       "      <th>3</th>\n",
       "      <td>No</td>\n",
       "      <td>male</td>\n",
       "      <td>57.0</td>\n",
       "      <td>15.00</td>\n",
       "      <td>yes</td>\n",
       "      <td>5</td>\n",
       "      <td>18.0</td>\n",
       "      <td>6</td>\n",
       "      <td>5</td>\n",
       "    </tr>\n",
       "    <tr>\n",
       "      <th>4</th>\n",
       "      <td>No</td>\n",
       "      <td>male</td>\n",
       "      <td>22.0</td>\n",
       "      <td>0.75</td>\n",
       "      <td>no</td>\n",
       "      <td>2</td>\n",
       "      <td>17.0</td>\n",
       "      <td>6</td>\n",
       "      <td>3</td>\n",
       "    </tr>\n",
       "    <tr>\n",
       "      <th>...</th>\n",
       "      <td>...</td>\n",
       "      <td>...</td>\n",
       "      <td>...</td>\n",
       "      <td>...</td>\n",
       "      <td>...</td>\n",
       "      <td>...</td>\n",
       "      <td>...</td>\n",
       "      <td>...</td>\n",
       "      <td>...</td>\n",
       "    </tr>\n",
       "    <tr>\n",
       "      <th>596</th>\n",
       "      <td>Yes</td>\n",
       "      <td>male</td>\n",
       "      <td>22.0</td>\n",
       "      <td>1.50</td>\n",
       "      <td>yes</td>\n",
       "      <td>1</td>\n",
       "      <td>12.0</td>\n",
       "      <td>2</td>\n",
       "      <td>5</td>\n",
       "    </tr>\n",
       "    <tr>\n",
       "      <th>597</th>\n",
       "      <td>Yes</td>\n",
       "      <td>female</td>\n",
       "      <td>32.0</td>\n",
       "      <td>10.00</td>\n",
       "      <td>yes</td>\n",
       "      <td>2</td>\n",
       "      <td>18.0</td>\n",
       "      <td>5</td>\n",
       "      <td>4</td>\n",
       "    </tr>\n",
       "    <tr>\n",
       "      <th>598</th>\n",
       "      <td>Yes</td>\n",
       "      <td>male</td>\n",
       "      <td>32.0</td>\n",
       "      <td>10.00</td>\n",
       "      <td>yes</td>\n",
       "      <td>2</td>\n",
       "      <td>17.0</td>\n",
       "      <td>6</td>\n",
       "      <td>5</td>\n",
       "    </tr>\n",
       "    <tr>\n",
       "      <th>599</th>\n",
       "      <td>Yes</td>\n",
       "      <td>male</td>\n",
       "      <td>22.0</td>\n",
       "      <td>7.00</td>\n",
       "      <td>yes</td>\n",
       "      <td>3</td>\n",
       "      <td>18.0</td>\n",
       "      <td>6</td>\n",
       "      <td>2</td>\n",
       "    </tr>\n",
       "    <tr>\n",
       "      <th>600</th>\n",
       "      <td>Yes</td>\n",
       "      <td>female</td>\n",
       "      <td>32.0</td>\n",
       "      <td>15.00</td>\n",
       "      <td>yes</td>\n",
       "      <td>3</td>\n",
       "      <td>14.0</td>\n",
       "      <td>1</td>\n",
       "      <td>5</td>\n",
       "    </tr>\n",
       "  </tbody>\n",
       "</table>\n",
       "<p>601 rows × 9 columns</p>\n",
       "</div>"
      ],
      "text/plain": [
       "    affairs  gender   age  years married children  religiousness rating  \\\n",
       "0        No    male  37.0          10.00       no                     3   \n",
       "1        No  female  27.0           4.00       no                     4   \n",
       "2        No  female  32.0          15.00      yes                     1   \n",
       "3        No    male  57.0          15.00      yes                     5   \n",
       "4        No    male  22.0           0.75       no                     2   \n",
       "..      ...     ...   ...            ...      ...                   ...   \n",
       "596     Yes    male  22.0           1.50      yes                     1   \n",
       "597     Yes  female  32.0          10.00      yes                     2   \n",
       "598     Yes    male  32.0          10.00      yes                     2   \n",
       "599     Yes    male  22.0           7.00      yes                     3   \n",
       "600     Yes  female  32.0          15.00      yes                     3   \n",
       "\n",
       "     education  occupation  rating  \n",
       "0         18.0           7       4  \n",
       "1         14.0           6       4  \n",
       "2         12.0           1       4  \n",
       "3         18.0           6       5  \n",
       "4         17.0           6       3  \n",
       "..         ...         ...     ...  \n",
       "596       12.0           2       5  \n",
       "597       18.0           5       4  \n",
       "598       17.0           6       5  \n",
       "599       18.0           6       2  \n",
       "600       14.0           1       5  \n",
       "\n",
       "[601 rows x 9 columns]"
      ]
     },
     "execution_count": 191,
     "metadata": {},
     "output_type": "execute_result"
    }
   ],
   "source": [
    "data_clean_Id=affairs.drop(['ID'], axis=1)\n",
    "data_clean_Id"
   ]
  },
  {
   "cell_type": "code",
   "execution_count": 192,
   "id": "e93b0975",
   "metadata": {},
   "outputs": [
    {
     "data": {
      "text/plain": [
       "Index(['affairs', 'gender', 'age', 'years married', 'children',\n",
       "       'religiousness rating', 'education', 'occupation', 'rating'],\n",
       "      dtype='object')"
      ]
     },
     "execution_count": 192,
     "metadata": {},
     "output_type": "execute_result"
    }
   ],
   "source": [
    "data_clean_Id.columns"
   ]
  },
  {
   "cell_type": "markdown",
   "id": "c12839e9",
   "metadata": {},
   "source": [
    "# Problem 8.c."
   ]
  },
  {
   "cell_type": "code",
   "execution_count": 211,
   "id": "d0e3d526",
   "metadata": {},
   "outputs": [
    {
     "data": {
      "text/plain": [
       "(601, 9)"
      ]
     },
     "execution_count": 211,
     "metadata": {},
     "output_type": "execute_result"
    }
   ],
   "source": [
    "data_clean_Id.shape"
   ]
  },
  {
   "cell_type": "markdown",
   "id": "8641c44a",
   "metadata": {},
   "source": [
    "# Problem 8.d."
   ]
  },
  {
   "cell_type": "code",
   "execution_count": 171,
   "id": "17028656",
   "metadata": {},
   "outputs": [
    {
     "data": {
      "text/plain": [
       "Index(['ID', 'affairs', 'gender', 'age', 'years_married', 'children',\n",
       "       'religiousness_rating', 'education', 'occupation', 'rating'],\n",
       "      dtype='object')"
      ]
     },
     "execution_count": 171,
     "metadata": {},
     "output_type": "execute_result"
    }
   ],
   "source": [
    "no_space = affairs.columns.str.replace(\" \", \"_\")\n",
    "no_space"
   ]
  },
  {
   "cell_type": "markdown",
   "id": "e88fbb9b",
   "metadata": {},
   "source": [
    "# Problem 8.e."
   ]
  },
  {
   "cell_type": "code",
   "execution_count": 204,
   "id": "7eb9d6b3",
   "metadata": {},
   "outputs": [
    {
     "data": {
      "text/html": [
       "<div>\n",
       "<style scoped>\n",
       "    .dataframe tbody tr th:only-of-type {\n",
       "        vertical-align: middle;\n",
       "    }\n",
       "\n",
       "    .dataframe tbody tr th {\n",
       "        vertical-align: top;\n",
       "    }\n",
       "\n",
       "    .dataframe thead th {\n",
       "        text-align: right;\n",
       "    }\n",
       "</style>\n",
       "<table border=\"1\" class=\"dataframe\">\n",
       "  <thead>\n",
       "    <tr style=\"text-align: right;\">\n",
       "      <th></th>\n",
       "      <th>ID</th>\n",
       "      <th>age</th>\n",
       "      <th>years married</th>\n",
       "      <th>religiousness rating</th>\n",
       "      <th>education</th>\n",
       "      <th>occupation</th>\n",
       "      <th>rating</th>\n",
       "    </tr>\n",
       "  </thead>\n",
       "  <tbody>\n",
       "    <tr>\n",
       "      <th>0</th>\n",
       "      <td>4</td>\n",
       "      <td>37.0</td>\n",
       "      <td>10.00</td>\n",
       "      <td>3</td>\n",
       "      <td>18.0</td>\n",
       "      <td>7</td>\n",
       "      <td>4</td>\n",
       "    </tr>\n",
       "    <tr>\n",
       "      <th>1</th>\n",
       "      <td>5</td>\n",
       "      <td>27.0</td>\n",
       "      <td>4.00</td>\n",
       "      <td>4</td>\n",
       "      <td>14.0</td>\n",
       "      <td>6</td>\n",
       "      <td>4</td>\n",
       "    </tr>\n",
       "    <tr>\n",
       "      <th>2</th>\n",
       "      <td>11</td>\n",
       "      <td>32.0</td>\n",
       "      <td>15.00</td>\n",
       "      <td>1</td>\n",
       "      <td>12.0</td>\n",
       "      <td>1</td>\n",
       "      <td>4</td>\n",
       "    </tr>\n",
       "    <tr>\n",
       "      <th>3</th>\n",
       "      <td>16</td>\n",
       "      <td>57.0</td>\n",
       "      <td>15.00</td>\n",
       "      <td>5</td>\n",
       "      <td>18.0</td>\n",
       "      <td>6</td>\n",
       "      <td>5</td>\n",
       "    </tr>\n",
       "    <tr>\n",
       "      <th>4</th>\n",
       "      <td>23</td>\n",
       "      <td>22.0</td>\n",
       "      <td>0.75</td>\n",
       "      <td>2</td>\n",
       "      <td>17.0</td>\n",
       "      <td>6</td>\n",
       "      <td>3</td>\n",
       "    </tr>\n",
       "    <tr>\n",
       "      <th>...</th>\n",
       "      <td>...</td>\n",
       "      <td>...</td>\n",
       "      <td>...</td>\n",
       "      <td>...</td>\n",
       "      <td>...</td>\n",
       "      <td>...</td>\n",
       "      <td>...</td>\n",
       "    </tr>\n",
       "    <tr>\n",
       "      <th>596</th>\n",
       "      <td>1938</td>\n",
       "      <td>22.0</td>\n",
       "      <td>1.50</td>\n",
       "      <td>1</td>\n",
       "      <td>12.0</td>\n",
       "      <td>2</td>\n",
       "      <td>5</td>\n",
       "    </tr>\n",
       "    <tr>\n",
       "      <th>597</th>\n",
       "      <td>1941</td>\n",
       "      <td>32.0</td>\n",
       "      <td>10.00</td>\n",
       "      <td>2</td>\n",
       "      <td>18.0</td>\n",
       "      <td>5</td>\n",
       "      <td>4</td>\n",
       "    </tr>\n",
       "    <tr>\n",
       "      <th>598</th>\n",
       "      <td>1954</td>\n",
       "      <td>32.0</td>\n",
       "      <td>10.00</td>\n",
       "      <td>2</td>\n",
       "      <td>17.0</td>\n",
       "      <td>6</td>\n",
       "      <td>5</td>\n",
       "    </tr>\n",
       "    <tr>\n",
       "      <th>599</th>\n",
       "      <td>1959</td>\n",
       "      <td>22.0</td>\n",
       "      <td>7.00</td>\n",
       "      <td>3</td>\n",
       "      <td>18.0</td>\n",
       "      <td>6</td>\n",
       "      <td>2</td>\n",
       "    </tr>\n",
       "    <tr>\n",
       "      <th>600</th>\n",
       "      <td>9010</td>\n",
       "      <td>32.0</td>\n",
       "      <td>15.00</td>\n",
       "      <td>3</td>\n",
       "      <td>14.0</td>\n",
       "      <td>1</td>\n",
       "      <td>5</td>\n",
       "    </tr>\n",
       "  </tbody>\n",
       "</table>\n",
       "<p>601 rows × 7 columns</p>\n",
       "</div>"
      ],
      "text/plain": [
       "       ID   age  years married  religiousness rating  education  occupation  \\\n",
       "0       4  37.0          10.00                     3       18.0           7   \n",
       "1       5  27.0           4.00                     4       14.0           6   \n",
       "2      11  32.0          15.00                     1       12.0           1   \n",
       "3      16  57.0          15.00                     5       18.0           6   \n",
       "4      23  22.0           0.75                     2       17.0           6   \n",
       "..    ...   ...            ...                   ...        ...         ...   \n",
       "596  1938  22.0           1.50                     1       12.0           2   \n",
       "597  1941  32.0          10.00                     2       18.0           5   \n",
       "598  1954  32.0          10.00                     2       17.0           6   \n",
       "599  1959  22.0           7.00                     3       18.0           6   \n",
       "600  9010  32.0          15.00                     3       14.0           1   \n",
       "\n",
       "     rating  \n",
       "0         4  \n",
       "1         4  \n",
       "2         4  \n",
       "3         5  \n",
       "4         3  \n",
       "..      ...  \n",
       "596       5  \n",
       "597       4  \n",
       "598       5  \n",
       "599       2  \n",
       "600       5  \n",
       "\n",
       "[601 rows x 7 columns]"
      ]
     },
     "execution_count": 204,
     "metadata": {},
     "output_type": "execute_result"
    }
   ],
   "source": [
    "data_num=affairs.select_dtypes(exclude=['object'])\n",
    "data_num"
   ]
  },
  {
   "cell_type": "code",
   "execution_count": 205,
   "id": "34ded02b",
   "metadata": {},
   "outputs": [
    {
     "data": {
      "text/html": [
       "<div>\n",
       "<style scoped>\n",
       "    .dataframe tbody tr th:only-of-type {\n",
       "        vertical-align: middle;\n",
       "    }\n",
       "\n",
       "    .dataframe tbody tr th {\n",
       "        vertical-align: top;\n",
       "    }\n",
       "\n",
       "    .dataframe thead th {\n",
       "        text-align: right;\n",
       "    }\n",
       "</style>\n",
       "<table border=\"1\" class=\"dataframe\">\n",
       "  <thead>\n",
       "    <tr style=\"text-align: right;\">\n",
       "      <th></th>\n",
       "      <th>affairs</th>\n",
       "      <th>gender</th>\n",
       "      <th>children</th>\n",
       "    </tr>\n",
       "  </thead>\n",
       "  <tbody>\n",
       "    <tr>\n",
       "      <th>0</th>\n",
       "      <td>No</td>\n",
       "      <td>male</td>\n",
       "      <td>no</td>\n",
       "    </tr>\n",
       "    <tr>\n",
       "      <th>1</th>\n",
       "      <td>No</td>\n",
       "      <td>female</td>\n",
       "      <td>no</td>\n",
       "    </tr>\n",
       "    <tr>\n",
       "      <th>2</th>\n",
       "      <td>No</td>\n",
       "      <td>female</td>\n",
       "      <td>yes</td>\n",
       "    </tr>\n",
       "    <tr>\n",
       "      <th>3</th>\n",
       "      <td>No</td>\n",
       "      <td>male</td>\n",
       "      <td>yes</td>\n",
       "    </tr>\n",
       "    <tr>\n",
       "      <th>4</th>\n",
       "      <td>No</td>\n",
       "      <td>male</td>\n",
       "      <td>no</td>\n",
       "    </tr>\n",
       "    <tr>\n",
       "      <th>...</th>\n",
       "      <td>...</td>\n",
       "      <td>...</td>\n",
       "      <td>...</td>\n",
       "    </tr>\n",
       "    <tr>\n",
       "      <th>596</th>\n",
       "      <td>Yes</td>\n",
       "      <td>male</td>\n",
       "      <td>yes</td>\n",
       "    </tr>\n",
       "    <tr>\n",
       "      <th>597</th>\n",
       "      <td>Yes</td>\n",
       "      <td>female</td>\n",
       "      <td>yes</td>\n",
       "    </tr>\n",
       "    <tr>\n",
       "      <th>598</th>\n",
       "      <td>Yes</td>\n",
       "      <td>male</td>\n",
       "      <td>yes</td>\n",
       "    </tr>\n",
       "    <tr>\n",
       "      <th>599</th>\n",
       "      <td>Yes</td>\n",
       "      <td>male</td>\n",
       "      <td>yes</td>\n",
       "    </tr>\n",
       "    <tr>\n",
       "      <th>600</th>\n",
       "      <td>Yes</td>\n",
       "      <td>female</td>\n",
       "      <td>yes</td>\n",
       "    </tr>\n",
       "  </tbody>\n",
       "</table>\n",
       "<p>601 rows × 3 columns</p>\n",
       "</div>"
      ],
      "text/plain": [
       "    affairs  gender children\n",
       "0        No    male       no\n",
       "1        No  female       no\n",
       "2        No  female      yes\n",
       "3        No    male      yes\n",
       "4        No    male       no\n",
       "..      ...     ...      ...\n",
       "596     Yes    male      yes\n",
       "597     Yes  female      yes\n",
       "598     Yes    male      yes\n",
       "599     Yes    male      yes\n",
       "600     Yes  female      yes\n",
       "\n",
       "[601 rows x 3 columns]"
      ]
     },
     "execution_count": 205,
     "metadata": {},
     "output_type": "execute_result"
    }
   ],
   "source": [
    "data_obj=affairs.select_dtypes(include=['object'])\n",
    "data_obj"
   ]
  },
  {
   "cell_type": "markdown",
   "id": "93558024",
   "metadata": {},
   "source": [
    "# Problem 9 Data Visualization"
   ]
  },
  {
   "cell_type": "code",
   "execution_count": 202,
   "id": "ab4145bb",
   "metadata": {},
   "outputs": [
    {
     "data": {
      "image/png": "[encoded data removed]",
      "text/plain": [
       "<Figure size 720x432 with 1 Axes>"
      ]
     },
     "metadata": {
      "needs_background": "light"
     },
     "output_type": "display_data"
    }
   ],
   "source": [
    "plt.figure(figsize=(10,6))\n",
    "\n",
    "affairs.groupby(['affairs'])['age'].mean().plot(kind='bar',color='#3adee0')\n",
    "\n",
    "plt.xlabel('affairs') \n",
    "plt.ylabel('age') \n",
    "plt.title('average age by affairs')\n",
    "\n",
    "plt.show() "
   ]
  },
  {
   "cell_type": "code",
   "execution_count": 203,
   "id": "db671378",
   "metadata": {},
   "outputs": [
    {
     "data": {
      "image/png": "[encoded data removed]",
      "text/plain": [
       "<Figure size 432x288 with 1 Axes>"
      ]
     },
     "metadata": {
      "needs_background": "light"
     },
     "output_type": "display_data"
    },
    {
     "data": {
      "image/png": "[encoded data removed]",
      "text/plain": [
       "<Figure size 432x288 with 1 Axes>"
      ]
     },
     "metadata": {
      "needs_background": "light"
     },
     "output_type": "display_data"
    },
    {
     "data": {
      "image/png": "[encoded data removed]",
      "text/plain": [
       "<Figure size 432x288 with 1 Axes>"
      ]
     },
     "metadata": {
      "needs_background": "light"
     },
     "output_type": "display_data"
    },
    {
     "data": {
      "image/png": "[encoded data removed]",
      "text/plain": [
       "<Figure size 432x288 with 1 Axes>"
      ]
     },
     "metadata": {
      "needs_background": "light"
     },
     "output_type": "display_data"
    },
    {
     "data": {
      "image/png": "[encoded data removed]",
      "text/plain": [
       "<Figure size 432x288 with 1 Axes>"
      ]
     },
     "metadata": {
      "needs_background": "light"
     },
     "output_type": "display_data"
    },
    {
     "data": {
      "image/png": "[encoded data removed]",
      "text/plain": [
       "<Figure size 432x288 with 1 Axes>"
      ]
     },
     "metadata": {
      "needs_background": "light"
     },
     "output_type": "display_data"
    },
    {
     "data": {
      "image/png": "[encoded data removed]",
      "text/plain": [
       "<Figure size 432x288 with 1 Axes>"
      ]
     },
     "metadata": {
      "needs_background": "light"
     },
     "output_type": "display_data"
    }
   ],
   "source": [
    "for i in data_num.columns:\n",
    "    plt.hist(data_num[i],color='#3adee0',bins=20)\n",
    "    plt.title(i)\n",
    "    plt.show()"
   ]
  },
  {
   "cell_type": "code",
   "execution_count": null,
   "id": "9acdba00",
   "metadata": {},
   "outputs": [],
   "source": []
  }
 ],
 "metadata": {
  "kernelspec": {
   "display_name": "Python 3",
   "language": "python",
   "name": "python3"
  },
  "language_info": {
   "codemirror_mode": {
    "name": "ipython",
    "version": 3
   },
   "file_extension": ".py",
   "mimetype": "text/x-python",
   "name": "python",
   "nbconvert_exporter": "python",
   "pygments_lexer": "ipython3",
   "version": "3.8.8"
  }
 },
 "nbformat": 4,
 "nbformat_minor": 5
}
